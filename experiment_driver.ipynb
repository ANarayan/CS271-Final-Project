{
 "cells": [
  {
   "cell_type": "code",
   "execution_count": null,
   "metadata": {},
   "outputs": [],
   "source": [
    "from embedding_layers import Conv1DEmbed, LinearEmbed\n",
    "from encoder_layers import LSTMEncoder, TransformerEncoder, MLPEncoder\n",
    "from tensorflow.keras import layers\n",
    "from data import load_data\n",
    "import keras"
   ]
  },
  {
   "cell_type": "code",
   "execution_count": null,
   "metadata": {},
   "outputs": [],
   "source": [
    "EMBEDDING_REGISTRY = {\"conv1d\": Conv1DEmbed, \"linear\": LinearEmbed}\n",
    "ENCODER_REGISTRY = {\"lstm\": LSTMEncoder, \"transformer\": TransformerEncoder, \"mlp\": MLPEncoder}"
   ]
  },
  {
   "cell_type": "code",
   "execution_count": null,
   "metadata": {},
   "outputs": [],
   "source": [
    "# EXPERIMENT PARAMETERS\n",
    "d_input = 12 # number of channels in input\n",
    "max_len = 1000\n",
    "d_model = 256\n",
    "data_dir = \"./\"\n",
    "embedding_layer = \"linear\"\n",
    "encoder_layer = \"lstm\"\n",
    "kernel_size=4\n",
    "num_classes=5\n",
    "num_heads = 6\n",
    "ff_dim = 128\n",
    "rate=0.1\n",
    "patch_size=1\n",
   ]
  },
  {
   "cell_type": "code",
   "execution_count": null,
   "metadata": {},
   "outputs": [],
   "source": [
    "\n",
    "EMBED_PARAMS = {\n",
    "    'd_input' : d_input,\n",
    "    'd_model' : d_model,\n",
    "    'kernel_size': kernel_size\n",
    "}\n",
    "\n",
    "ENCODER_PARAMS = {\n",
    "    'd_input' : d_input,\n",
    "    'd_model' : d_model,\n",
    "    'kernel_size': kernel_size,\n",
    "    'num_heads': num_heads, \n",
    "    'ff_dim' : ff_dim , \n",
    "    'rate' : rate\n",
    "}"
   ]
  },
  {
   "cell_type": "code",
   "execution_count": null,
   "metadata": {},
   "outputs": [],
   "source": [
    "# train_data, val_data and test_data are all tuples (e.g train_data = (X_train, y_train))\n",
    "train_data, val_data, test_data = load_data(data_dir)\n",
    "x_train, y_train = train_data[0], train_data[1]\n",
    "x_val, y_val =  val_data[0], val_data[1]\n",
    "x_test, y_test = test_data[0], test_data[1]"
   ]
  },
  {
   "cell_type": "code",
   "execution_count": null,
   "metadata": {},
   "outputs": [],
   "source": [
    "embed_layer = EMBEDDING_REGISTRY[embedding_layer](**EMBED_PARAMS)\n",
    "encoder_layer = ENCODER_REGISTRY[encoder_layer](**ENCODER_PARAMS)"
   ]
  },
  {
   "cell_type": "code",
   "execution_count": null,
   "metadata": {},
   "outputs": [],
   "source": [
    "# build model\n",
    "inputs = layers.Input(shape=(d_input,max_len))\n",
    "embed_layer = EMBEDDING_REGISTRY[embedding_layer](**EMBED_PARAMS)\n",
    "encoder_layer = ENCODER_REGISTRY[encoder_layer](**ENCODER_PARAMS)\n",
    "avg_pool_layer = layers.GlobalAveragePooling1D()\n",
    "dropout_layer = layers.Dropout(0.1)\n",
    "prediction_layer = layers.Dense(num_classes, activation=\"softmax\")\n",
    "\n",
    "x = embed_layer(inputs)\n",
    "x = encoder_layer(x)\n",
    "x = avg_pool_layer(x)\n",
    "x = dropout_layer(x)\n",
    "outputs = prediction_layer(x)\n",
    "\n",
    "model = keras.Model(inputs=inputs, outputs=outputs)"
   ]
  },
  {
   "cell_type": "code",
   "execution_count": null,
   "metadata": {},
   "outputs": [],
   "source": [
    "model.compile(optimizer=\"adam\", loss=\"categorical_crossentropy\", metrics=[\"accuracy\"])\n",
    "history = model.fit(\n",
    "    x_train, y_train, batch_size=128, epochs=50, validation_data=(x_val, y_val)\n",
    ")\n",
    "model.save(f\"{embed_layer}_{encoder_layer}\")"
   ]
  },
  {
   "cell_type": "code",
   "execution_count": null,
   "metadata": {},
   "outputs": [],
   "source": []
  }
 ],
 "metadata": {
  "interpreter": {
   "hash": "a53c33b1bbd41e3d62e2d3e2c1ce1aa84538f2a606969cd0d446c848ee910c24"
  },
  "kernelspec": {
   "display_name": "Python 3.7.10 64-bit ('ludwig-bench': conda)",
   "language": "python",
   "name": "python3"
  },
  "language_info": {
   "codemirror_mode": {
    "name": "ipython",
    "version": 3
   },
   "file_extension": ".py",
   "mimetype": "text/x-python",
   "name": "python",
   "nbconvert_exporter": "python",
   "pygments_lexer": "ipython3",
   "version": "3.7.10"
  },
  "orig_nbformat": 4
 },
 "nbformat": 4,
 "nbformat_minor": 2
}
